{
  "nbformat": 4,
  "nbformat_minor": 0,
  "metadata": {
    "colab": {
      "provenance": []
    },
    "kernelspec": {
      "name": "python3",
      "display_name": "Python 3"
    },
    "language_info": {
      "name": "python"
    },
    "gpuClass": "standard"
  },
  "cells": [
    {
      "cell_type": "code",
      "source": [
        "# !wget https://www.dropbox.com/s/w8kiecmkgzemewv/data.zip?dl=0"
      ],
      "metadata": {
        "colab": {
          "base_uri": "https://localhost:8080/"
        },
        "id": "Dr0mb7MNcXJ6",
        "outputId": "1aff2e87-e998-43ee-e139-49ac4e090b28"
      },
      "execution_count": null,
      "outputs": [
        {
          "output_type": "stream",
          "name": "stdout",
          "text": [
            "--2023-03-08 13:38:27--  https://www.dropbox.com/s/w8kiecmkgzemewv/data.zip?dl=0\n",
            "Resolving www.dropbox.com (www.dropbox.com)... 162.125.85.18, 2620:100:6035:18::a27d:5512\n",
            "Connecting to www.dropbox.com (www.dropbox.com)|162.125.85.18|:443... connected.\n",
            "HTTP request sent, awaiting response... 302 Found\n",
            "Location: /s/raw/w8kiecmkgzemewv/data.zip [following]\n",
            "--2023-03-08 13:38:28--  https://www.dropbox.com/s/raw/w8kiecmkgzemewv/data.zip\n",
            "Reusing existing connection to www.dropbox.com:443.\n",
            "HTTP request sent, awaiting response... 302 Found\n",
            "Location: https://ucaf27e404aedc7055fba082f45a.dl.dropboxusercontent.com/cd/0/inline/B30LVpKo8xV4mOH4kp-swv1xWkCyUUi5FNRLtGZ0TOJYew_S9fd7oCJnkmAkvsUnsXK5O2F7H63xo7OMuRQhZXqq8XzXsDE4Qdsw2Xkv19_0gx1JDSSYm7FivETzlv2FGiQ-jrCPhZn-y_UjZu-_az_8VwKFHFs1C7Qmk5-GzukVlQ/file# [following]\n",
            "--2023-03-08 13:38:28--  https://ucaf27e404aedc7055fba082f45a.dl.dropboxusercontent.com/cd/0/inline/B30LVpKo8xV4mOH4kp-swv1xWkCyUUi5FNRLtGZ0TOJYew_S9fd7oCJnkmAkvsUnsXK5O2F7H63xo7OMuRQhZXqq8XzXsDE4Qdsw2Xkv19_0gx1JDSSYm7FivETzlv2FGiQ-jrCPhZn-y_UjZu-_az_8VwKFHFs1C7Qmk5-GzukVlQ/file\n",
            "Resolving ucaf27e404aedc7055fba082f45a.dl.dropboxusercontent.com (ucaf27e404aedc7055fba082f45a.dl.dropboxusercontent.com)... 162.125.80.15, 2620:100:6035:15::a27d:550f\n",
            "Connecting to ucaf27e404aedc7055fba082f45a.dl.dropboxusercontent.com (ucaf27e404aedc7055fba082f45a.dl.dropboxusercontent.com)|162.125.80.15|:443... connected.\n",
            "HTTP request sent, awaiting response... 302 Found\n",
            "Location: /cd/0/inline2/B30WvO-Ik6C2kVyNu782heiKqEP_cY5BBHtZMdcHqhS8x9Vf1-xRhkAm1UQq7Jybw9q5mZqFd95ediN2VoczbfPSF-j7GhpjMVXE8CFVrG0WrbYsCp9y00HQ_F4c2aFQ--eZRb5lXRchqcL0goKQLFMB1Eyjo5RDXuWU_R8WkBDjcMi_1a8wwjD1Un6TmcocmM-rDveOn3axUlDWGLhOxX8LDeD9OFvjVGCbQUtsDPGRKxspVkzlMw45l3VI7KYZHtr4lvZHJn1S_VWujOuiSCNasYX1pKAMVubkO092KXB4bZi53y3f3lKi2M1hKhNE-36pGACzWFKwf_z3DZjegvIbujKMPIzd4ijS_080vnNVkaJ3P24l0ZnlCp1_XudQXqCb-NB4xbzILpJm_YPTmH5iTRiJYfc9ZZIJ7jmPTgKtSA/file [following]\n",
            "--2023-03-08 13:38:29--  https://ucaf27e404aedc7055fba082f45a.dl.dropboxusercontent.com/cd/0/inline2/B30WvO-Ik6C2kVyNu782heiKqEP_cY5BBHtZMdcHqhS8x9Vf1-xRhkAm1UQq7Jybw9q5mZqFd95ediN2VoczbfPSF-j7GhpjMVXE8CFVrG0WrbYsCp9y00HQ_F4c2aFQ--eZRb5lXRchqcL0goKQLFMB1Eyjo5RDXuWU_R8WkBDjcMi_1a8wwjD1Un6TmcocmM-rDveOn3axUlDWGLhOxX8LDeD9OFvjVGCbQUtsDPGRKxspVkzlMw45l3VI7KYZHtr4lvZHJn1S_VWujOuiSCNasYX1pKAMVubkO092KXB4bZi53y3f3lKi2M1hKhNE-36pGACzWFKwf_z3DZjegvIbujKMPIzd4ijS_080vnNVkaJ3P24l0ZnlCp1_XudQXqCb-NB4xbzILpJm_YPTmH5iTRiJYfc9ZZIJ7jmPTgKtSA/file\n",
            "Reusing existing connection to ucaf27e404aedc7055fba082f45a.dl.dropboxusercontent.com:443.\n",
            "HTTP request sent, awaiting response... 200 OK\n",
            "Length: 275076603 (262M) [application/zip]\n",
            "Saving to: ‘data.zip?dl=0’\n",
            "\n",
            "data.zip?dl=0       100%[===================>] 262.33M  13.5MB/s    in 20s     \n",
            "\n",
            "2023-03-08 13:38:50 (13.0 MB/s) - ‘data.zip?dl=0’ saved [275076603/275076603]\n",
            "\n"
          ]
        }
      ]
    },
    {
      "cell_type": "code",
      "source": [
        "# !unzip -q \"/content/data.zip?dl=0\""
      ],
      "metadata": {
        "id": "dzg7cMzqcX-g"
      },
      "execution_count": null,
      "outputs": []
    },
    {
      "cell_type": "code",
      "execution_count": null,
      "metadata": {
        "colab": {
          "base_uri": "https://localhost:8080/"
        },
        "id": "YzoQb-dQyslV",
        "outputId": "0ddeb28a-8474-4bfe-f58b-493dfd5b7a63"
      },
      "outputs": [
        {
          "output_type": "stream",
          "name": "stdout",
          "text": [
            "--2023-03-08 15:58:04--  https://www.dropbox.com/s/lqe9rvhm036c4lu/ml-latest-small.zip?dl=0\n",
            "Resolving www.dropbox.com (www.dropbox.com)... 162.125.5.18, 2620:100:601d:18::a27d:512\n",
            "Connecting to www.dropbox.com (www.dropbox.com)|162.125.5.18|:443... connected.\n",
            "HTTP request sent, awaiting response... 302 Found\n",
            "Location: /s/raw/lqe9rvhm036c4lu/ml-latest-small.zip [following]\n",
            "--2023-03-08 15:58:05--  https://www.dropbox.com/s/raw/lqe9rvhm036c4lu/ml-latest-small.zip\n",
            "Reusing existing connection to www.dropbox.com:443.\n",
            "HTTP request sent, awaiting response... 302 Found\n",
            "Location: https://ucf00cb99ade5fb10b73a055e450.dl.dropboxusercontent.com/cd/0/inline/B32UaEcNQR-ejuZdwYEumlfQLDz4D28a48_83sqZLDNQptAw6OZOXRcoJBE3F2tkfjfHmFZSPvdT7vj8H2CkRG0HPpXAU2W1GHdsr4MCS5uhOUlEGSMjjqIbFDchwSxYBmF6qnndvmQsgq27OaBMdSByxQTR2Dhb4pBDDgpHWwBfGg/file# [following]\n",
            "--2023-03-08 15:58:05--  https://ucf00cb99ade5fb10b73a055e450.dl.dropboxusercontent.com/cd/0/inline/B32UaEcNQR-ejuZdwYEumlfQLDz4D28a48_83sqZLDNQptAw6OZOXRcoJBE3F2tkfjfHmFZSPvdT7vj8H2CkRG0HPpXAU2W1GHdsr4MCS5uhOUlEGSMjjqIbFDchwSxYBmF6qnndvmQsgq27OaBMdSByxQTR2Dhb4pBDDgpHWwBfGg/file\n",
            "Resolving ucf00cb99ade5fb10b73a055e450.dl.dropboxusercontent.com (ucf00cb99ade5fb10b73a055e450.dl.dropboxusercontent.com)... 162.125.5.15, 2620:100:601d:15::a27d:50f\n",
            "Connecting to ucf00cb99ade5fb10b73a055e450.dl.dropboxusercontent.com (ucf00cb99ade5fb10b73a055e450.dl.dropboxusercontent.com)|162.125.5.15|:443... connected.\n",
            "HTTP request sent, awaiting response... 302 Found\n",
            "Location: /cd/0/inline2/B32eFglr55c8YqDDZxbb9RZwbiKFDb0vagCCyz5eeU5W9IBVWyHxBcocE7fNFa3zpHdagAA2mGHOaiHXHCRczNrm6IXRHWv0EJY3tqHXaHpmVGS1vg-zvJ8ONGe1FeX-9YhkOhD3x11TzP-BAcFtbxfKiT3igknBCfkpXgh4WH6hoaTjBlM7uUi-sfrFOMtXIyzz6C5SgFHm8MOG2cqSlw8iwOhPVnNRl_25ecrPlVugIUhyme5zb8G1E9xzgLeRDBY4zcLuqtssurPUvErUSLMjvvCY9J6yZoc8OCSBLiq7U0qTyqFezRRDwXSPdWIVhqJNcZ5DXtYLzW-bq-wcaWMGk9igC0z286yCtONrC9ECim2AH9P1SgV6LT3HghMJCwV8xXpfwM_lGv62JwgNZyxrKK2MJHWNO7qAB9_7BuUV3Q/file [following]\n",
            "--2023-03-08 15:58:05--  https://ucf00cb99ade5fb10b73a055e450.dl.dropboxusercontent.com/cd/0/inline2/B32eFglr55c8YqDDZxbb9RZwbiKFDb0vagCCyz5eeU5W9IBVWyHxBcocE7fNFa3zpHdagAA2mGHOaiHXHCRczNrm6IXRHWv0EJY3tqHXaHpmVGS1vg-zvJ8ONGe1FeX-9YhkOhD3x11TzP-BAcFtbxfKiT3igknBCfkpXgh4WH6hoaTjBlM7uUi-sfrFOMtXIyzz6C5SgFHm8MOG2cqSlw8iwOhPVnNRl_25ecrPlVugIUhyme5zb8G1E9xzgLeRDBY4zcLuqtssurPUvErUSLMjvvCY9J6yZoc8OCSBLiq7U0qTyqFezRRDwXSPdWIVhqJNcZ5DXtYLzW-bq-wcaWMGk9igC0z286yCtONrC9ECim2AH9P1SgV6LT3HghMJCwV8xXpfwM_lGv62JwgNZyxrKK2MJHWNO7qAB9_7BuUV3Q/file\n",
            "Reusing existing connection to ucf00cb99ade5fb10b73a055e450.dl.dropboxusercontent.com:443.\n",
            "HTTP request sent, awaiting response... 200 OK\n",
            "Length: 978202 (955K) [application/zip]\n",
            "Saving to: ‘ml-latest-small.zip?dl=0’\n",
            "\n",
            "ml-latest-small.zip 100%[===================>] 955.28K  --.-KB/s    in 0.1s    \n",
            "\n",
            "2023-03-08 15:58:06 (9.37 MB/s) - ‘ml-latest-small.zip?dl=0’ saved [978202/978202]\n",
            "\n"
          ]
        }
      ],
      "source": [
        "!wget https://www.dropbox.com/s/lqe9rvhm036c4lu/ml-latest-small.zip?dl=0"
      ]
    },
    {
      "cell_type": "code",
      "source": [
        "!unzip -q \"/content/ml-latest-small.zip?dl=0\""
      ],
      "metadata": {
        "id": "cumVtuD6ytzt"
      },
      "execution_count": null,
      "outputs": []
    },
    {
      "cell_type": "code",
      "source": [
        "!pip install pyspark"
      ],
      "metadata": {
        "colab": {
          "base_uri": "https://localhost:8080/"
        },
        "id": "NNggeWd5yyQ4",
        "outputId": "764b2b6d-2525-458b-9a3c-5f4444b59f25"
      },
      "execution_count": null,
      "outputs": [
        {
          "output_type": "stream",
          "name": "stdout",
          "text": [
            "Looking in indexes: https://pypi.org/simple, https://us-python.pkg.dev/colab-wheels/public/simple/\n",
            "Collecting pyspark\n",
            "  Downloading pyspark-3.3.2.tar.gz (281.4 MB)\n",
            "\u001b[2K     \u001b[90m━━━━━━━━━━━━━━━━━━━━━━━━━━━━━━━━━━━━━━━\u001b[0m \u001b[32m281.4/281.4 MB\u001b[0m \u001b[31m4.2 MB/s\u001b[0m eta \u001b[36m0:00:00\u001b[0m\n",
            "\u001b[?25h  Preparing metadata (setup.py) ... \u001b[?25l\u001b[?25hdone\n",
            "Collecting py4j==0.10.9.5\n",
            "  Downloading py4j-0.10.9.5-py2.py3-none-any.whl (199 kB)\n",
            "\u001b[2K     \u001b[90m━━━━━━━━━━━━━━━━━━━━━━━━━━━━━━━━━━━━━━\u001b[0m \u001b[32m199.7/199.7 KB\u001b[0m \u001b[31m15.3 MB/s\u001b[0m eta \u001b[36m0:00:00\u001b[0m\n",
            "\u001b[?25hBuilding wheels for collected packages: pyspark\n",
            "  Building wheel for pyspark (setup.py) ... \u001b[?25l\u001b[?25hdone\n",
            "  Created wheel for pyspark: filename=pyspark-3.3.2-py2.py3-none-any.whl size=281824025 sha256=765aae30b9d29422f66c61074029bab4b3da3d912e2bab9a155535711f490007\n",
            "  Stored in directory: /root/.cache/pip/wheels/b1/59/a0/a1a0624b5e865fd389919c1a10f53aec9b12195d6747710baf\n",
            "Successfully built pyspark\n",
            "Installing collected packages: py4j, pyspark\n",
            "Successfully installed py4j-0.10.9.5 pyspark-3.3.2\n"
          ]
        }
      ]
    },
    {
      "cell_type": "code",
      "source": [
        "# Import necessary libraries\n",
        "from pyspark.sql import SparkSession\n",
        "from pyspark.ml.recommendation import ALS, ALSModel\n",
        "from pyspark.ml.evaluation import RegressionEvaluator\n",
        "from pyspark.sql.functions import col\n",
        "from pyspark.ml.tuning import ParamGridBuilder, CrossValidator\n",
        "\n",
        "# Create a SparkSession\n",
        "spark = SparkSession.builder.appName('MovieRecommendation').getOrCreate()\n",
        "\n",
        "# Load the ratings dataset and cache it\n",
        "ratings = spark.read.format('csv').options(header='true', inferSchema='true').load('/content/ml-latest-small/ratings.csv').cache()\n",
        "\n",
        "# Load the movies dataset and cache it\n",
        "movies = spark.read.format('csv').options(header='true', inferSchema='true').load('/content/ml-latest-small/movies.csv').cache()\n",
        "\n",
        "# Split the ratings dataset into training, validation, and test datasets\n",
        "(training, validation, test) = ratings.randomSplit([0.6, 0.2, 0.2], seed=42)\n",
        "\n",
        "# Define the ALS model\n",
        "als = ALS(userCol='userId', itemCol='movieId', ratingCol='rating', nonnegative=True, coldStartStrategy='drop')\n",
        "\n",
        "# Define the parameter grid for tuning\n",
        "param_grid = ParamGridBuilder() \\\n",
        "    .addGrid(als.rank, [50, 100]) \\\n",
        "    .addGrid(als.regParam, [0.1, 0.05, 0.01]) \\\n",
        "    .build()\n",
        "\n",
        "# Define the evaluation metric\n",
        "evaluator = RegressionEvaluator(metricName='rmse', labelCol='rating', predictionCol='prediction')\n",
        "\n",
        "# Define the cross validator\n",
        "cv = CrossValidator(estimator=als, estimatorParamMaps=param_grid, evaluator=evaluator, numFolds=3)\n",
        "\n",
        "# Train the ALS model using the training dataset\n",
        "best_model = cv.fit(training)\n",
        "\n",
        "# Use the validation dataset to select the best model\n",
        "predictions = best_model.transform(validation)\n",
        "rmse = evaluator.evaluate(predictions)\n",
        "print('Root-mean-square error =', rmse)\n",
        "\n",
        "# Use the test dataset to evaluate the performance of the best model\n",
        "predictions = best_model.transform(test)\n",
        "rmse = evaluator.evaluate(predictions)\n",
        "print('Root-mean-square error on test set =', rmse)\n",
        "\n",
        "# Save the best model for future use\n",
        "best_model.bestModel.write().overwrite().save('/content/ALS_model.parquet')\n",
        "\n",
        "# Load the saved model\n",
        "saved_model = ALSModel.load('/content/ALS_model.parquet')\n",
        "\n",
        "# Define the user ID for which we want to recommend movies\n",
        "user_id = 1\n",
        "\n",
        "# Get the movies the user has rated\n",
        "user_ratings = ratings.filter(col('userId') == user_id)\n",
        "\n",
        "# Print the movies the user likes and dislikes\n",
        "print('Movies liked by user:')\n",
        "user_ratings.filter(col('rating') >= 4).join(movies, 'movieId').select('title').show(truncate=False)\n",
        "print('Movies disliked by user:')\n",
        "user_ratings.filter(col('rating') < 4).join(movies, 'movieId').select('title').show(truncate=False)\n"
      ],
      "metadata": {
        "colab": {
          "base_uri": "https://localhost:8080/"
        },
        "id": "4Z5Hx5JZ8DPr",
        "outputId": "ad859f89-1645-404b-d00a-579084497546"
      },
      "execution_count": null,
      "outputs": [
        {
          "output_type": "stream",
          "name": "stdout",
          "text": [
            "Root-mean-square error = 0.9006727378630561\n",
            "Root-mean-square error on test set = 0.8954534587525965\n",
            "Movies liked by user:\n",
            "+-----------------------------------------+\n",
            "|title                                    |\n",
            "+-----------------------------------------+\n",
            "|Toy Story (1995)                         |\n",
            "|Grumpier Old Men (1995)                  |\n",
            "|Heat (1995)                              |\n",
            "|Seven (a.k.a. Se7en) (1995)              |\n",
            "|Usual Suspects, The (1995)               |\n",
            "|Bottle Rocket (1996)                     |\n",
            "|Braveheart (1995)                        |\n",
            "|Rob Roy (1995)                           |\n",
            "|Canadian Bacon (1995)                    |\n",
            "|Desperado (1995)                         |\n",
            "|Billy Madison (1995)                     |\n",
            "|Dumb & Dumber (Dumb and Dumber) (1994)   |\n",
            "|Ed Wood (1994)                           |\n",
            "|Star Wars: Episode IV - A New Hope (1977)|\n",
            "|Tommy Boy (1995)                         |\n",
            "|Clear and Present Danger (1994)          |\n",
            "|Forrest Gump (1994)                      |\n",
            "|Jungle Book, The (1994)                  |\n",
            "|Mask, The (1994)                         |\n",
            "|Dazed and Confused (1993)                |\n",
            "+-----------------------------------------+\n",
            "only showing top 20 rows\n",
            "\n",
            "Movies disliked by user:\n",
            "+--------------------------------------+\n",
            "|title                                 |\n",
            "+--------------------------------------+\n",
            "|From Dusk Till Dawn (1996)            |\n",
            "|Clerks (1994)                         |\n",
            "|Pulp Fiction (1994)                   |\n",
            "|Stargate (1994)                       |\n",
            "|Blown Away (1994)                     |\n",
            "|Mrs. Doubtfire (1993)                 |\n",
            "|Mission: Impossible (1996)            |\n",
            "|Space Jam (1996)                      |\n",
            "|Twister (1996)                        |\n",
            "|Independence Day (a.k.a. ID4) (1996)  |\n",
            "|Escape to Witch Mountain (1975)       |\n",
            "|Pete's Dragon (1977)                  |\n",
            "|Psycho (1960)                         |\n",
            "|Shining, The (1980)                   |\n",
            "|Batman Returns (1992)                 |\n",
            "|Sneakers (1992)                       |\n",
            "|Last of the Mohicans, The (1992)      |\n",
            "|McHale's Navy (1997)                  |\n",
            "|Men in Black (a.k.a. MIB) (1997)      |\n",
            "|I Know What You Did Last Summer (1997)|\n",
            "+--------------------------------------+\n",
            "only showing top 20 rows\n",
            "\n"
          ]
        }
      ]
    },
    {
      "cell_type": "code",
      "source": [],
      "metadata": {
        "id": "aoKuPW9N8EMR"
      },
      "execution_count": null,
      "outputs": []
    },
    {
      "cell_type": "code",
      "source": [
        "# Import necessary libraries\n",
        "from pyspark.sql import SparkSession\n",
        "from pyspark.ml.recommendation import ALS, ALSModel\n",
        "from pyspark.ml.evaluation import RegressionEvaluator\n",
        "from pyspark.sql.functions import col\n",
        "from pyspark.ml.tuning import ParamGridBuilder, CrossValidator\n",
        "\n",
        "# Create a SparkSession\n",
        "spark = SparkSession.builder.appName('MovieRecommendation').getOrCreate()\n",
        "\n",
        "# Load the ratings dataset and cache it\n",
        "ratings = spark.read.format('csv').options(header='true', inferSchema='true').load('/content/ml-latest-small/ratings.csv').cache()\n",
        "\n",
        "# Load the movies dataset and cache it\n",
        "movies = spark.read.format('csv').options(header='true', inferSchema='true').load('/content/ml-latest-small/movies.csv').cache()\n",
        "\n",
        "# Split the ratings dataset into training, validation, and test datasets\n",
        "(training, validation, test) = ratings.randomSplit([0.6, 0.2, 0.2], seed=42)\n",
        "\n",
        "# Define the ALS model\n",
        "als = ALS(userCol='userId', itemCol='movieId', ratingCol='rating', nonnegative=True, coldStartStrategy='drop')\n",
        "\n",
        "# Define the parameter grid for tuning\n",
        "param_grid = ParamGridBuilder() \\\n",
        "    .addGrid(als.rank, [10, 50]) \\\n",
        "    .addGrid(als.regParam, [0.1, 0.01]) \\\n",
        "    .build()\n",
        "\n",
        "# Define the evaluation metric\n",
        "evaluator = RegressionEvaluator(metricName='rmse', labelCol='rating', predictionCol='prediction')\n",
        "\n",
        "# Define the cross validator\n",
        "cv = CrossValidator(estimator=als, estimatorParamMaps=param_grid, evaluator=evaluator, numFolds=3)\n",
        "\n",
        "# Train the ALS model using the training dataset\n",
        "best_model = cv.fit(training)\n",
        "\n",
        "# Use the validation dataset to select the best model\n",
        "predictions = best_model.transform(validation)\n",
        "rmse = evaluator.evaluate(predictions)\n",
        "print('Root-mean-square error =', rmse)\n",
        "\n",
        "# Use the test dataset to evaluate the performance of the best model\n",
        "predictions = best_model.transform(test)\n",
        "rmse = evaluator.evaluate(predictions)\n",
        "print('Root-mean-square error on test set =', rmse)\n",
        "\n",
        "# Save the best model for future use\n",
        "best_model.bestModel.write().overwrite().save('/content/ALS_model.parquet')\n",
        "\n",
        "# Load the saved model\n",
        "saved_model = ALSModel.load('/content/ALS_model.parquet')\n",
        "\n",
        "# Define the user ID for which we want to recommend movies\n",
        "user_id = 1\n",
        "\n",
        "# Get the movies the user has rated\n",
        "user_ratings = ratings.filter(col('userId') == user_id)\n",
        "\n",
        "# Print the movies the user likes and dislikes\n",
        "print('Movies liked by user:')\n",
        "user_ratings.filter(col('rating') >= 4).join(movies, 'movieId').select('title').show(truncate=False)\n",
        "print('Movies disliked by user:')\n",
        "user_ratings.filter(col('rating') < 4).join(movies, 'movieId').select('title').show(truncate=False)"
      ],
      "metadata": {
        "colab": {
          "base_uri": "https://localhost:8080/"
        },
        "id": "wSfGayi2YjyJ",
        "outputId": "98dea541-5f0c-475d-a2f5-1b265067998a"
      },
      "execution_count": null,
      "outputs": [
        {
          "output_type": "stream",
          "name": "stdout",
          "text": [
            "Root-mean-square error = 0.9019296974533724\n",
            "Root-mean-square error on test set = 0.8964187193865248\n",
            "Movies liked by user:\n",
            "+-----------------------------------------+\n",
            "|title                                    |\n",
            "+-----------------------------------------+\n",
            "|Toy Story (1995)                         |\n",
            "|Grumpier Old Men (1995)                  |\n",
            "|Heat (1995)                              |\n",
            "|Seven (a.k.a. Se7en) (1995)              |\n",
            "|Usual Suspects, The (1995)               |\n",
            "|Bottle Rocket (1996)                     |\n",
            "|Braveheart (1995)                        |\n",
            "|Rob Roy (1995)                           |\n",
            "|Canadian Bacon (1995)                    |\n",
            "|Desperado (1995)                         |\n",
            "|Billy Madison (1995)                     |\n",
            "|Dumb & Dumber (Dumb and Dumber) (1994)   |\n",
            "|Ed Wood (1994)                           |\n",
            "|Star Wars: Episode IV - A New Hope (1977)|\n",
            "|Tommy Boy (1995)                         |\n",
            "|Clear and Present Danger (1994)          |\n",
            "|Forrest Gump (1994)                      |\n",
            "|Jungle Book, The (1994)                  |\n",
            "|Mask, The (1994)                         |\n",
            "|Dazed and Confused (1993)                |\n",
            "+-----------------------------------------+\n",
            "only showing top 20 rows\n",
            "\n",
            "Movies disliked by user:\n",
            "+--------------------------------------+\n",
            "|title                                 |\n",
            "+--------------------------------------+\n",
            "|From Dusk Till Dawn (1996)            |\n",
            "|Clerks (1994)                         |\n",
            "|Pulp Fiction (1994)                   |\n",
            "|Stargate (1994)                       |\n",
            "|Blown Away (1994)                     |\n",
            "|Mrs. Doubtfire (1993)                 |\n",
            "|Mission: Impossible (1996)            |\n",
            "|Space Jam (1996)                      |\n",
            "|Twister (1996)                        |\n",
            "|Independence Day (a.k.a. ID4) (1996)  |\n",
            "|Escape to Witch Mountain (1975)       |\n",
            "|Pete's Dragon (1977)                  |\n",
            "|Psycho (1960)                         |\n",
            "|Shining, The (1980)                   |\n",
            "|Batman Returns (1992)                 |\n",
            "|Sneakers (1992)                       |\n",
            "|Last of the Mohicans, The (1992)      |\n",
            "|McHale's Navy (1997)                  |\n",
            "|Men in Black (a.k.a. MIB) (1997)      |\n",
            "|I Know What You Did Last Summer (1997)|\n",
            "+--------------------------------------+\n",
            "only showing top 20 rows\n",
            "\n"
          ]
        }
      ]
    },
    {
      "cell_type": "code",
      "source": [
        "!zip -r /content/ALSmodel.zip /content/ALS_model.parquet"
      ],
      "metadata": {
        "colab": {
          "base_uri": "https://localhost:8080/"
        },
        "id": "uiK9AlYrH-ry",
        "outputId": "b8626cbf-9965-49cb-d720-1b5db6537114"
      },
      "execution_count": null,
      "outputs": [
        {
          "output_type": "stream",
          "name": "stdout",
          "text": [
            "  adding: content/ALS_model.parquet/ (stored 0%)\n",
            "  adding: content/ALS_model.parquet/itemFactors/ (stored 0%)\n",
            "  adding: content/ALS_model.parquet/itemFactors/.part-00005-562c9d5a-024a-4838-b283-be48d4848883-c000.snappy.parquet.crc (stored 0%)\n",
            "  adding: content/ALS_model.parquet/itemFactors/._SUCCESS.crc (stored 0%)\n",
            "  adding: content/ALS_model.parquet/itemFactors/part-00005-562c9d5a-024a-4838-b283-be48d4848883-c000.snappy.parquet (deflated 13%)\n",
            "  adding: content/ALS_model.parquet/itemFactors/.part-00001-562c9d5a-024a-4838-b283-be48d4848883-c000.snappy.parquet.crc (stored 0%)\n",
            "  adding: content/ALS_model.parquet/itemFactors/.part-00003-562c9d5a-024a-4838-b283-be48d4848883-c000.snappy.parquet.crc (stored 0%)\n",
            "  adding: content/ALS_model.parquet/itemFactors/.part-00002-562c9d5a-024a-4838-b283-be48d4848883-c000.snappy.parquet.crc (stored 0%)\n",
            "  adding: content/ALS_model.parquet/itemFactors/part-00000-562c9d5a-024a-4838-b283-be48d4848883-c000.snappy.parquet (deflated 11%)\n",
            "  adding: content/ALS_model.parquet/itemFactors/.part-00007-562c9d5a-024a-4838-b283-be48d4848883-c000.snappy.parquet.crc (stored 0%)\n",
            "  adding: content/ALS_model.parquet/itemFactors/part-00009-562c9d5a-024a-4838-b283-be48d4848883-c000.snappy.parquet (deflated 15%)\n",
            "  adding: content/ALS_model.parquet/itemFactors/part-00002-562c9d5a-024a-4838-b283-be48d4848883-c000.snappy.parquet (deflated 12%)\n",
            "  adding: content/ALS_model.parquet/itemFactors/.part-00004-562c9d5a-024a-4838-b283-be48d4848883-c000.snappy.parquet.crc (stored 0%)\n",
            "  adding: content/ALS_model.parquet/itemFactors/_SUCCESS (stored 0%)\n",
            "  adding: content/ALS_model.parquet/itemFactors/.part-00006-562c9d5a-024a-4838-b283-be48d4848883-c000.snappy.parquet.crc (stored 0%)\n",
            "  adding: content/ALS_model.parquet/itemFactors/.part-00000-562c9d5a-024a-4838-b283-be48d4848883-c000.snappy.parquet.crc (stored 0%)\n",
            "  adding: content/ALS_model.parquet/itemFactors/.part-00009-562c9d5a-024a-4838-b283-be48d4848883-c000.snappy.parquet.crc (stored 0%)\n",
            "  adding: content/ALS_model.parquet/itemFactors/part-00004-562c9d5a-024a-4838-b283-be48d4848883-c000.snappy.parquet (deflated 12%)\n",
            "  adding: content/ALS_model.parquet/itemFactors/part-00003-562c9d5a-024a-4838-b283-be48d4848883-c000.snappy.parquet (deflated 12%)\n",
            "  adding: content/ALS_model.parquet/itemFactors/part-00006-562c9d5a-024a-4838-b283-be48d4848883-c000.snappy.parquet (deflated 12%)\n",
            "  adding: content/ALS_model.parquet/itemFactors/part-00007-562c9d5a-024a-4838-b283-be48d4848883-c000.snappy.parquet (deflated 12%)\n",
            "  adding: content/ALS_model.parquet/itemFactors/part-00008-562c9d5a-024a-4838-b283-be48d4848883-c000.snappy.parquet (deflated 12%)\n",
            "  adding: content/ALS_model.parquet/itemFactors/part-00001-562c9d5a-024a-4838-b283-be48d4848883-c000.snappy.parquet (deflated 12%)\n",
            "  adding: content/ALS_model.parquet/itemFactors/.part-00008-562c9d5a-024a-4838-b283-be48d4848883-c000.snappy.parquet.crc (stored 0%)\n",
            "  adding: content/ALS_model.parquet/metadata/ (stored 0%)\n",
            "  adding: content/ALS_model.parquet/metadata/._SUCCESS.crc (stored 0%)\n",
            "  adding: content/ALS_model.parquet/metadata/_SUCCESS (stored 0%)\n",
            "  adding: content/ALS_model.parquet/metadata/.part-00000.crc (stored 0%)\n",
            "  adding: content/ALS_model.parquet/metadata/part-00000 (deflated 39%)\n",
            "  adding: content/ALS_model.parquet/userFactors/ (stored 0%)\n",
            "  adding: content/ALS_model.parquet/userFactors/._SUCCESS.crc (stored 0%)\n",
            "  adding: content/ALS_model.parquet/userFactors/.part-00008-906f37f1-2e2f-4538-8015-7feb6a4757dd-c000.snappy.parquet.crc (stored 0%)\n",
            "  adding: content/ALS_model.parquet/userFactors/.part-00009-906f37f1-2e2f-4538-8015-7feb6a4757dd-c000.snappy.parquet.crc (stored 0%)\n",
            "  adding: content/ALS_model.parquet/userFactors/.part-00003-906f37f1-2e2f-4538-8015-7feb6a4757dd-c000.snappy.parquet.crc (stored 0%)\n",
            "  adding: content/ALS_model.parquet/userFactors/.part-00007-906f37f1-2e2f-4538-8015-7feb6a4757dd-c000.snappy.parquet.crc (stored 0%)\n",
            "  adding: content/ALS_model.parquet/userFactors/part-00002-906f37f1-2e2f-4538-8015-7feb6a4757dd-c000.snappy.parquet (deflated 10%)\n",
            "  adding: content/ALS_model.parquet/userFactors/_SUCCESS (stored 0%)\n",
            "  adding: content/ALS_model.parquet/userFactors/.part-00006-906f37f1-2e2f-4538-8015-7feb6a4757dd-c000.snappy.parquet.crc (stored 0%)\n",
            "  adding: content/ALS_model.parquet/userFactors/part-00009-906f37f1-2e2f-4538-8015-7feb6a4757dd-c000.snappy.parquet (deflated 10%)\n",
            "  adding: content/ALS_model.parquet/userFactors/.part-00005-906f37f1-2e2f-4538-8015-7feb6a4757dd-c000.snappy.parquet.crc (stored 0%)\n",
            "  adding: content/ALS_model.parquet/userFactors/part-00003-906f37f1-2e2f-4538-8015-7feb6a4757dd-c000.snappy.parquet (deflated 9%)\n",
            "  adding: content/ALS_model.parquet/userFactors/part-00000-906f37f1-2e2f-4538-8015-7feb6a4757dd-c000.snappy.parquet (deflated 11%)\n",
            "  adding: content/ALS_model.parquet/userFactors/part-00008-906f37f1-2e2f-4538-8015-7feb6a4757dd-c000.snappy.parquet (deflated 9%)\n",
            "  adding: content/ALS_model.parquet/userFactors/part-00006-906f37f1-2e2f-4538-8015-7feb6a4757dd-c000.snappy.parquet (deflated 10%)\n",
            "  adding: content/ALS_model.parquet/userFactors/part-00004-906f37f1-2e2f-4538-8015-7feb6a4757dd-c000.snappy.parquet (deflated 10%)\n",
            "  adding: content/ALS_model.parquet/userFactors/part-00007-906f37f1-2e2f-4538-8015-7feb6a4757dd-c000.snappy.parquet (deflated 9%)\n",
            "  adding: content/ALS_model.parquet/userFactors/part-00005-906f37f1-2e2f-4538-8015-7feb6a4757dd-c000.snappy.parquet (deflated 10%)\n",
            "  adding: content/ALS_model.parquet/userFactors/part-00001-906f37f1-2e2f-4538-8015-7feb6a4757dd-c000.snappy.parquet (deflated 11%)\n",
            "  adding: content/ALS_model.parquet/userFactors/.part-00001-906f37f1-2e2f-4538-8015-7feb6a4757dd-c000.snappy.parquet.crc (stored 0%)\n",
            "  adding: content/ALS_model.parquet/userFactors/.part-00000-906f37f1-2e2f-4538-8015-7feb6a4757dd-c000.snappy.parquet.crc (stored 0%)\n",
            "  adding: content/ALS_model.parquet/userFactors/.part-00002-906f37f1-2e2f-4538-8015-7feb6a4757dd-c000.snappy.parquet.crc (stored 0%)\n",
            "  adding: content/ALS_model.parquet/userFactors/.part-00004-906f37f1-2e2f-4538-8015-7feb6a4757dd-c000.snappy.parquet.crc (stored 0%)\n"
          ]
        }
      ]
    },
    {
      "cell_type": "code",
      "source": [
        "from google.colab import files\n",
        "files.download(\"/content/ALSmodel.zip\")"
      ],
      "metadata": {
        "colab": {
          "base_uri": "https://localhost:8080/",
          "height": 17
        },
        "id": "qTahjoN5IMph",
        "outputId": "5e7dfba1-c04b-477b-cb72-af19a695ff1d"
      },
      "execution_count": null,
      "outputs": [
        {
          "output_type": "display_data",
          "data": {
            "text/plain": [
              "<IPython.core.display.Javascript object>"
            ],
            "application/javascript": [
              "\n",
              "    async function download(id, filename, size) {\n",
              "      if (!google.colab.kernel.accessAllowed) {\n",
              "        return;\n",
              "      }\n",
              "      const div = document.createElement('div');\n",
              "      const label = document.createElement('label');\n",
              "      label.textContent = `Downloading \"${filename}\": `;\n",
              "      div.appendChild(label);\n",
              "      const progress = document.createElement('progress');\n",
              "      progress.max = size;\n",
              "      div.appendChild(progress);\n",
              "      document.body.appendChild(div);\n",
              "\n",
              "      const buffers = [];\n",
              "      let downloaded = 0;\n",
              "\n",
              "      const channel = await google.colab.kernel.comms.open(id);\n",
              "      // Send a message to notify the kernel that we're ready.\n",
              "      channel.send({})\n",
              "\n",
              "      for await (const message of channel.messages) {\n",
              "        // Send a message to notify the kernel that we're ready.\n",
              "        channel.send({})\n",
              "        if (message.buffers) {\n",
              "          for (const buffer of message.buffers) {\n",
              "            buffers.push(buffer);\n",
              "            downloaded += buffer.byteLength;\n",
              "            progress.value = downloaded;\n",
              "          }\n",
              "        }\n",
              "      }\n",
              "      const blob = new Blob(buffers, {type: 'application/binary'});\n",
              "      const a = document.createElement('a');\n",
              "      a.href = window.URL.createObjectURL(blob);\n",
              "      a.download = filename;\n",
              "      div.appendChild(a);\n",
              "      a.click();\n",
              "      div.remove();\n",
              "    }\n",
              "  "
            ]
          },
          "metadata": {}
        },
        {
          "output_type": "display_data",
          "data": {
            "text/plain": [
              "<IPython.core.display.Javascript object>"
            ],
            "application/javascript": [
              "download(\"download_917a39a5-51f3-4fc9-a1de-807a040b5233\", \"ALSmodel.zip\", 2852900)"
            ]
          },
          "metadata": {}
        }
      ]
    },
    {
      "cell_type": "code",
      "source": [
        "# Get the top 10 recommended movies for the user\n",
        "user_recs = saved_model.recommendForAllUsers(10).filter(col('userId') == user_id)\n",
        "\n",
        "# Extract the recommended movie IDs and explode them into separate rows\n",
        "user_recs = user_recs.selectExpr(\"explode(recommendations) as rec\")\n",
        "user_recs = user_recs.select('rec.movieId')\n",
        "\n",
        "# Join with the movies DataFrame to get the movie titles\n",
        "user_recs = user_recs.join(movies, 'movieId')\n",
        "\n",
        "# Print the top 10 recommended movies for the user\n",
        "print('Top 10 recommended movies for the user:')\n",
        "user_recs.select('title').show(truncate=False)"
      ],
      "metadata": {
        "colab": {
          "base_uri": "https://localhost:8080/"
        },
        "id": "BMQ4PxnAZOlr",
        "outputId": "4e18adef-71cd-4c72-8e95-959d87c99f34"
      },
      "execution_count": null,
      "outputs": [
        {
          "output_type": "stream",
          "name": "stdout",
          "text": [
            "Top 10 recommended movies for the user:\n",
            "+------------------------------------------------+\n",
            "|title                                           |\n",
            "+------------------------------------------------+\n",
            "|Doctor Zhivago (1965)                           |\n",
            "|Three Billboards Outside Ebbing, Missouri (2017)|\n",
            "|Harold and Maude (1971)                         |\n",
            "|Yojimbo (1961)                                  |\n",
            "|High Noon (1952)                                |\n",
            "|Waiting for Guffman (1996)                      |\n",
            "|Cool Hand Luke (1967)                           |\n",
            "|Star Wars: Episode IV - A New Hope (1977)       |\n",
            "|Cosmos                                          |\n",
            "|It's a Wonderful Life (1946)                    |\n",
            "+------------------------------------------------+\n",
            "\n"
          ]
        }
      ]
    },
    {
      "cell_type": "code",
      "source": [],
      "metadata": {
        "colab": {
          "base_uri": "https://localhost:8080/",
          "height": 440
        },
        "id": "DQhed3mIyzav",
        "outputId": "e216c2ea-89a3-4743-ac0f-daf50d0abbd2"
      },
      "execution_count": null,
      "outputs": [
        {
          "output_type": "stream",
          "name": "stdout",
          "text": [
            "Root-mean-square error = 0.8996581610583839\n",
            "Root-mean-square error on test set = 0.8965793681020697\n"
          ]
        },
        {
          "output_type": "error",
          "ename": "IllegalArgumentException",
          "evalue": "ignored",
          "traceback": [
            "\u001b[0;31m---------------------------------------------------------------------------\u001b[0m",
            "\u001b[0;31mIllegalArgumentException\u001b[0m                  Traceback (most recent call last)",
            "\u001b[0;32m<ipython-input-4-9ad16ce93e73>\u001b[0m in \u001b[0;36m<module>\u001b[0;34m\u001b[0m\n\u001b[1;32m     50\u001b[0m \u001b[0;34m\u001b[0m\u001b[0m\n\u001b[1;32m     51\u001b[0m \u001b[0;31m# Load the saved model\u001b[0m\u001b[0;34m\u001b[0m\u001b[0;34m\u001b[0m\u001b[0;34m\u001b[0m\u001b[0m\n\u001b[0;32m---> 52\u001b[0;31m \u001b[0msaved_model\u001b[0m \u001b[0;34m=\u001b[0m \u001b[0mALSModel\u001b[0m\u001b[0;34m.\u001b[0m\u001b[0mload\u001b[0m\u001b[0;34m(\u001b[0m\u001b[0;34m'/content/ALS_model.parquet'\u001b[0m\u001b[0;34m)\u001b[0m\u001b[0;34m\u001b[0m\u001b[0;34m\u001b[0m\u001b[0m\n\u001b[0m\u001b[1;32m     53\u001b[0m \u001b[0;34m\u001b[0m\u001b[0m\n\u001b[1;32m     54\u001b[0m \u001b[0;31m# Define the user ID for which we want to recommend movies\u001b[0m\u001b[0;34m\u001b[0m\u001b[0;34m\u001b[0m\u001b[0;34m\u001b[0m\u001b[0m\n",
            "\u001b[0;32m/usr/local/lib/python3.8/dist-packages/pyspark/ml/util.py\u001b[0m in \u001b[0;36mload\u001b[0;34m(cls, path)\u001b[0m\n\u001b[1;32m    351\u001b[0m     \u001b[0;32mdef\u001b[0m \u001b[0mload\u001b[0m\u001b[0;34m(\u001b[0m\u001b[0mcls\u001b[0m\u001b[0;34m,\u001b[0m \u001b[0mpath\u001b[0m\u001b[0;34m:\u001b[0m \u001b[0mstr\u001b[0m\u001b[0;34m)\u001b[0m \u001b[0;34m->\u001b[0m \u001b[0mRL\u001b[0m\u001b[0;34m:\u001b[0m\u001b[0;34m\u001b[0m\u001b[0;34m\u001b[0m\u001b[0m\n\u001b[1;32m    352\u001b[0m         \u001b[0;34m\"\"\"Reads an ML instance from the input path, a shortcut of `read().load(path)`.\"\"\"\u001b[0m\u001b[0;34m\u001b[0m\u001b[0;34m\u001b[0m\u001b[0m\n\u001b[0;32m--> 353\u001b[0;31m         \u001b[0;32mreturn\u001b[0m \u001b[0mcls\u001b[0m\u001b[0;34m.\u001b[0m\u001b[0mread\u001b[0m\u001b[0;34m(\u001b[0m\u001b[0;34m)\u001b[0m\u001b[0;34m.\u001b[0m\u001b[0mload\u001b[0m\u001b[0;34m(\u001b[0m\u001b[0mpath\u001b[0m\u001b[0;34m)\u001b[0m\u001b[0;34m\u001b[0m\u001b[0;34m\u001b[0m\u001b[0m\n\u001b[0m\u001b[1;32m    354\u001b[0m \u001b[0;34m\u001b[0m\u001b[0m\n\u001b[1;32m    355\u001b[0m \u001b[0;34m\u001b[0m\u001b[0m\n",
            "\u001b[0;32m/usr/local/lib/python3.8/dist-packages/pyspark/ml/util.py\u001b[0m in \u001b[0;36mload\u001b[0;34m(self, path)\u001b[0m\n\u001b[1;32m    300\u001b[0m         \u001b[0;32mif\u001b[0m \u001b[0;32mnot\u001b[0m \u001b[0misinstance\u001b[0m\u001b[0;34m(\u001b[0m\u001b[0mpath\u001b[0m\u001b[0;34m,\u001b[0m \u001b[0mstr\u001b[0m\u001b[0;34m)\u001b[0m\u001b[0;34m:\u001b[0m\u001b[0;34m\u001b[0m\u001b[0;34m\u001b[0m\u001b[0m\n\u001b[1;32m    301\u001b[0m             \u001b[0;32mraise\u001b[0m \u001b[0mTypeError\u001b[0m\u001b[0;34m(\u001b[0m\u001b[0;34m\"path should be a string, got type %s\"\u001b[0m \u001b[0;34m%\u001b[0m \u001b[0mtype\u001b[0m\u001b[0;34m(\u001b[0m\u001b[0mpath\u001b[0m\u001b[0;34m)\u001b[0m\u001b[0;34m)\u001b[0m\u001b[0;34m\u001b[0m\u001b[0;34m\u001b[0m\u001b[0m\n\u001b[0;32m--> 302\u001b[0;31m         \u001b[0mjava_obj\u001b[0m \u001b[0;34m=\u001b[0m \u001b[0mself\u001b[0m\u001b[0;34m.\u001b[0m\u001b[0m_jread\u001b[0m\u001b[0;34m.\u001b[0m\u001b[0mload\u001b[0m\u001b[0;34m(\u001b[0m\u001b[0mpath\u001b[0m\u001b[0;34m)\u001b[0m\u001b[0;34m\u001b[0m\u001b[0;34m\u001b[0m\u001b[0m\n\u001b[0m\u001b[1;32m    303\u001b[0m         \u001b[0;32mif\u001b[0m \u001b[0;32mnot\u001b[0m \u001b[0mhasattr\u001b[0m\u001b[0;34m(\u001b[0m\u001b[0mself\u001b[0m\u001b[0;34m.\u001b[0m\u001b[0m_clazz\u001b[0m\u001b[0;34m,\u001b[0m \u001b[0;34m\"_from_java\"\u001b[0m\u001b[0;34m)\u001b[0m\u001b[0;34m:\u001b[0m\u001b[0;34m\u001b[0m\u001b[0;34m\u001b[0m\u001b[0m\n\u001b[1;32m    304\u001b[0m             raise NotImplementedError(\n",
            "\u001b[0;32m/usr/local/lib/python3.8/dist-packages/py4j/java_gateway.py\u001b[0m in \u001b[0;36m__call__\u001b[0;34m(self, *args)\u001b[0m\n\u001b[1;32m   1319\u001b[0m \u001b[0;34m\u001b[0m\u001b[0m\n\u001b[1;32m   1320\u001b[0m         \u001b[0manswer\u001b[0m \u001b[0;34m=\u001b[0m \u001b[0mself\u001b[0m\u001b[0;34m.\u001b[0m\u001b[0mgateway_client\u001b[0m\u001b[0;34m.\u001b[0m\u001b[0msend_command\u001b[0m\u001b[0;34m(\u001b[0m\u001b[0mcommand\u001b[0m\u001b[0;34m)\u001b[0m\u001b[0;34m\u001b[0m\u001b[0;34m\u001b[0m\u001b[0m\n\u001b[0;32m-> 1321\u001b[0;31m         return_value = get_return_value(\n\u001b[0m\u001b[1;32m   1322\u001b[0m             answer, self.gateway_client, self.target_id, self.name)\n\u001b[1;32m   1323\u001b[0m \u001b[0;34m\u001b[0m\u001b[0m\n",
            "\u001b[0;32m/usr/local/lib/python3.8/dist-packages/pyspark/sql/utils.py\u001b[0m in \u001b[0;36mdeco\u001b[0;34m(*a, **kw)\u001b[0m\n\u001b[1;32m    194\u001b[0m                 \u001b[0;31m# Hide where the exception came from that shows a non-Pythonic\u001b[0m\u001b[0;34m\u001b[0m\u001b[0;34m\u001b[0m\u001b[0;34m\u001b[0m\u001b[0m\n\u001b[1;32m    195\u001b[0m                 \u001b[0;31m# JVM exception message.\u001b[0m\u001b[0;34m\u001b[0m\u001b[0;34m\u001b[0m\u001b[0;34m\u001b[0m\u001b[0m\n\u001b[0;32m--> 196\u001b[0;31m                 \u001b[0;32mraise\u001b[0m \u001b[0mconverted\u001b[0m \u001b[0;32mfrom\u001b[0m \u001b[0;32mNone\u001b[0m\u001b[0;34m\u001b[0m\u001b[0;34m\u001b[0m\u001b[0m\n\u001b[0m\u001b[1;32m    197\u001b[0m             \u001b[0;32melse\u001b[0m\u001b[0;34m:\u001b[0m\u001b[0;34m\u001b[0m\u001b[0;34m\u001b[0m\u001b[0m\n\u001b[1;32m    198\u001b[0m                 \u001b[0;32mraise\u001b[0m\u001b[0;34m\u001b[0m\u001b[0;34m\u001b[0m\u001b[0m\n",
            "\u001b[0;31mIllegalArgumentException\u001b[0m: requirement failed: Error loading metadata: Expected class name org.apache.spark.ml.recommendation.ALSModel but found class name org.apache.spark.ml.tuning.CrossValidatorModel"
          ]
        }
      ]
    },
    {
      "cell_type": "code",
      "source": [],
      "metadata": {
        "id": "jhxkG70_NAfj"
      },
      "execution_count": null,
      "outputs": []
    },
    {
      "cell_type": "code",
      "source": [],
      "metadata": {
        "id": "2PWBFVJpy_W0"
      },
      "execution_count": null,
      "outputs": []
    }
  ]
}